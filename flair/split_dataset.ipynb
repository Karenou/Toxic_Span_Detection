{
 "cells": [
  {
   "cell_type": "code",
   "execution_count": 1,
   "id": "d1a1f80c",
   "metadata": {},
   "outputs": [],
   "source": [
    "import pandas as pd\n",
    "import numpy as np\n",
    "import os"
   ]
  },
  {
   "cell_type": "markdown",
   "id": "3cde652d",
   "metadata": {},
   "source": [
    "- download the civil comment dataset (train split) from kaggle\n",
    "    - https://www.kaggle.com/competitions/jigsaw-unintended-bias-in-toxicity-classification/data?select=train.csv"
   ]
  },
  {
   "cell_type": "code",
   "execution_count": 2,
   "id": "987cc317",
   "metadata": {},
   "outputs": [],
   "source": [
    "data = pd.read_csv(\"civil_comment_train.csv\", usecols=[\"comment_text\", \"target\"])"
   ]
  },
  {
   "cell_type": "markdown",
   "id": "03feacd2",
   "metadata": {},
   "source": [
    "- filter toxic comments"
   ]
  },
  {
   "cell_type": "code",
   "execution_count": 16,
   "id": "77bfb5af",
   "metadata": {},
   "outputs": [],
   "source": [
    "toxic_data = data[data[\"target\"] > 0].reset_index(drop=True)"
   ]
  },
  {
   "cell_type": "code",
   "execution_count": 13,
   "id": "fb9593f7",
   "metadata": {},
   "outputs": [
    {
     "name": "stdout",
     "output_type": "stream",
     "text": [
      "1804874\n",
      "540110\n"
     ]
    }
   ],
   "source": [
    "print(len(data))\n",
    "print(len(toxic_data))"
   ]
  },
  {
   "cell_type": "code",
   "execution_count": 6,
   "id": "487dd6a1",
   "metadata": {},
   "outputs": [
    {
     "data": {
      "text/html": [
       "<div>\n",
       "<style scoped>\n",
       "    .dataframe tbody tr th:only-of-type {\n",
       "        vertical-align: middle;\n",
       "    }\n",
       "\n",
       "    .dataframe tbody tr th {\n",
       "        vertical-align: top;\n",
       "    }\n",
       "\n",
       "    .dataframe thead th {\n",
       "        text-align: right;\n",
       "    }\n",
       "</style>\n",
       "<table border=\"1\" class=\"dataframe\">\n",
       "  <thead>\n",
       "    <tr style=\"text-align: right;\">\n",
       "      <th></th>\n",
       "      <th>target</th>\n",
       "      <th>comment_text</th>\n",
       "    </tr>\n",
       "  </thead>\n",
       "  <tbody>\n",
       "    <tr>\n",
       "      <th>4</th>\n",
       "      <td>0.893617</td>\n",
       "      <td>haha you guys are a bunch of losers.</td>\n",
       "    </tr>\n",
       "    <tr>\n",
       "      <th>5</th>\n",
       "      <td>0.666667</td>\n",
       "      <td>ur a sh*tty comment.</td>\n",
       "    </tr>\n",
       "    <tr>\n",
       "      <th>6</th>\n",
       "      <td>0.457627</td>\n",
       "      <td>hahahahahahahahhha suck it.</td>\n",
       "    </tr>\n",
       "    <tr>\n",
       "      <th>11</th>\n",
       "      <td>0.440000</td>\n",
       "      <td>This is a great story. Man. I wonder if the pe...</td>\n",
       "    </tr>\n",
       "    <tr>\n",
       "      <th>13</th>\n",
       "      <td>0.600000</td>\n",
       "      <td>It's ridiculous that these guys are being call...</td>\n",
       "    </tr>\n",
       "  </tbody>\n",
       "</table>\n",
       "</div>"
      ],
      "text/plain": [
       "      target                                       comment_text\n",
       "4   0.893617               haha you guys are a bunch of losers.\n",
       "5   0.666667                               ur a sh*tty comment.\n",
       "6   0.457627                        hahahahahahahahhha suck it.\n",
       "11  0.440000  This is a great story. Man. I wonder if the pe...\n",
       "13  0.600000  It's ridiculous that these guys are being call..."
      ]
     },
     "execution_count": 6,
     "metadata": {},
     "output_type": "execute_result"
    }
   ],
   "source": [
    "toxic_data.head()"
   ]
  },
  {
   "cell_type": "markdown",
   "id": "7fad25bc",
   "metadata": {},
   "source": [
    "- randomly choose 5k for dev and 5k for test, save as txt, and the remaining as 530k train set"
   ]
  },
  {
   "cell_type": "code",
   "execution_count": 17,
   "id": "d7bf8f60",
   "metadata": {},
   "outputs": [],
   "source": [
    "def split_df(df, size, split):\n",
    "    mask_idx = np.random.choice(df.index, replace = False, size = size)\n",
    "    subset = df.iloc[mask_idx,]\n",
    "    df = df.drop(mask_idx, axis=0).reset_index(drop=True)\n",
    "    \n",
    "    subset.to_csv('corpus/%s.txt' % split, header=None, index=None, sep=\"\\n\")\n",
    "    return df"
   ]
  },
  {
   "cell_type": "markdown",
   "id": "e10604fa",
   "metadata": {},
   "source": [
    "- create directory according to Flair TextCorpus structure"
   ]
  },
  {
   "cell_type": "code",
   "execution_count": 8,
   "id": "10ef2123",
   "metadata": {},
   "outputs": [],
   "source": [
    "if not os.path.exists(\"corpus\"):\n",
    "    os.mkdir(\"corpus\")\n",
    "\n",
    "if not os.path.exists(\"corpus/train\"):\n",
    "    os.mkdir(\"corpus/train\")"
   ]
  },
  {
   "cell_type": "markdown",
   "id": "9220677c",
   "metadata": {},
   "source": [
    "- split train, valid and test set"
   ]
  },
  {
   "cell_type": "code",
   "execution_count": 18,
   "id": "31dd0f38",
   "metadata": {},
   "outputs": [],
   "source": [
    "toxic_data = toxic_data[[\"comment_text\"]]\n",
    "\n",
    "toxic_data = split_df(toxic_data, 5000, \"valid\")\n",
    "\n",
    "toxic_data = split_df(toxic_data, 5000, \"test\")"
   ]
  },
  {
   "cell_type": "code",
   "execution_count": 19,
   "id": "9d33ac6a",
   "metadata": {},
   "outputs": [
    {
     "data": {
      "text/plain": [
       "530110"
      ]
     },
     "execution_count": 19,
     "metadata": {},
     "output_type": "execute_result"
    }
   ],
   "source": [
    "len(toxic_data)"
   ]
  },
  {
   "cell_type": "code",
   "execution_count": 20,
   "id": "c4329cbb",
   "metadata": {},
   "outputs": [],
   "source": [
    "toxic_data = split_df(toxic_data, 250000, \"train/train_split_1\")"
   ]
  },
  {
   "cell_type": "code",
   "execution_count": 21,
   "id": "0e3f8e0c",
   "metadata": {},
   "outputs": [],
   "source": [
    "toxic_data = split_df(toxic_data, len(toxic_data), \"train/train_split_2\")"
   ]
  },
  {
   "cell_type": "code",
   "execution_count": null,
   "id": "1c4f8aa1",
   "metadata": {},
   "outputs": [],
   "source": []
  }
 ],
 "metadata": {
  "kernelspec": {
   "display_name": "Tensorflow 2.6.0",
   "language": "python",
   "name": "data_mining"
  },
  "language_info": {
   "codemirror_mode": {
    "name": "ipython",
    "version": 3
   },
   "file_extension": ".py",
   "mimetype": "text/x-python",
   "name": "python",
   "nbconvert_exporter": "python",
   "pygments_lexer": "ipython3",
   "version": "3.6.13"
  }
 },
 "nbformat": 4,
 "nbformat_minor": 5
}
