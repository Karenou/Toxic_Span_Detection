{
 "cells": [
  {
   "cell_type": "code",
   "execution_count": 2,
   "id": "d1a1f80c",
   "metadata": {},
   "outputs": [],
   "source": [
    "import pandas as pd\n",
    "import numpy as np\n",
    "import os"
   ]
  },
  {
   "cell_type": "markdown",
   "id": "3cde652d",
   "metadata": {},
   "source": [
    "- download the civil comment dataset (train split) from kaggle\n",
    "    - https://www.kaggle.com/competitions/jigsaw-unintended-bias-in-toxicity-classification/data?select=train.csv"
   ]
  },
  {
   "cell_type": "code",
   "execution_count": 42,
   "id": "987cc317",
   "metadata": {},
   "outputs": [],
   "source": [
    "data = pd.read_csv(\"../train.csv\", usecols=[\"comment_text\"])"
   ]
  },
  {
   "cell_type": "code",
   "execution_count": 43,
   "id": "487dd6a1",
   "metadata": {},
   "outputs": [
    {
     "data": {
      "text/html": [
       "<div>\n",
       "<style scoped>\n",
       "    .dataframe tbody tr th:only-of-type {\n",
       "        vertical-align: middle;\n",
       "    }\n",
       "\n",
       "    .dataframe tbody tr th {\n",
       "        vertical-align: top;\n",
       "    }\n",
       "\n",
       "    .dataframe thead th {\n",
       "        text-align: right;\n",
       "    }\n",
       "</style>\n",
       "<table border=\"1\" class=\"dataframe\">\n",
       "  <thead>\n",
       "    <tr style=\"text-align: right;\">\n",
       "      <th></th>\n",
       "      <th>comment_text</th>\n",
       "    </tr>\n",
       "  </thead>\n",
       "  <tbody>\n",
       "    <tr>\n",
       "      <th>0</th>\n",
       "      <td>This is so cool. It's like, 'would you want yo...</td>\n",
       "    </tr>\n",
       "    <tr>\n",
       "      <th>1</th>\n",
       "      <td>Thank you!! This would make my life a lot less...</td>\n",
       "    </tr>\n",
       "    <tr>\n",
       "      <th>2</th>\n",
       "      <td>This is such an urgent design problem; kudos t...</td>\n",
       "    </tr>\n",
       "    <tr>\n",
       "      <th>3</th>\n",
       "      <td>Is this something I'll be able to install on m...</td>\n",
       "    </tr>\n",
       "    <tr>\n",
       "      <th>4</th>\n",
       "      <td>haha you guys are a bunch of losers.</td>\n",
       "    </tr>\n",
       "  </tbody>\n",
       "</table>\n",
       "</div>"
      ],
      "text/plain": [
       "                                        comment_text\n",
       "0  This is so cool. It's like, 'would you want yo...\n",
       "1  Thank you!! This would make my life a lot less...\n",
       "2  This is such an urgent design problem; kudos t...\n",
       "3  Is this something I'll be able to install on m...\n",
       "4               haha you guys are a bunch of losers."
      ]
     },
     "execution_count": 43,
     "metadata": {},
     "output_type": "execute_result"
    }
   ],
   "source": [
    "data.head()"
   ]
  },
  {
   "cell_type": "code",
   "execution_count": 44,
   "id": "fb9593f7",
   "metadata": {},
   "outputs": [
    {
     "data": {
      "text/plain": [
       "1804874"
      ]
     },
     "execution_count": 44,
     "metadata": {},
     "output_type": "execute_result"
    }
   ],
   "source": [
    "len(data)"
   ]
  },
  {
   "cell_type": "markdown",
   "id": "7fad25bc",
   "metadata": {},
   "source": [
    "- randomly choose a subset of 600K text for training the Flair model, 10k for dev and 10k for test, save as txt"
   ]
  },
  {
   "cell_type": "code",
   "execution_count": 49,
   "id": "d7bf8f60",
   "metadata": {},
   "outputs": [],
   "source": [
    "def split_df(df, size, split):\n",
    "    mask_idx = np.random.choice(df.index, replace = False, size = size)\n",
    "    subset = df.iloc[mask_idx,:]\n",
    "    df = df.drop(mask_idx, axis=0).reset_index(drop=True)\n",
    "    \n",
    "    subset.to_csv('corpus/%s.txt' % split, header=None, index=None, sep=\"\\n\")\n",
    "    return df"
   ]
  },
  {
   "cell_type": "markdown",
   "id": "e10604fa",
   "metadata": {},
   "source": [
    "- create directory according to Flair TextCorpus structure"
   ]
  },
  {
   "cell_type": "code",
   "execution_count": null,
   "id": "10ef2123",
   "metadata": {},
   "outputs": [],
   "source": [
    "if not os.path.exists(\"corpus\"):\n",
    "    os.mkdir(\"corpus\")\n",
    "\n",
    "if not os.path.exists(\"corpus/train\"):\n",
    "    os.mkdir(\"corpus/train\")"
   ]
  },
  {
   "cell_type": "markdown",
   "id": "9220677c",
   "metadata": {},
   "source": [
    "- split train, valid and test set"
   ]
  },
  {
   "cell_type": "code",
   "execution_count": 46,
   "id": "31dd0f38",
   "metadata": {},
   "outputs": [],
   "source": [
    "data = split_df(data, 600000, \"train/train_split_1\")\n",
    "\n",
    "data = split_df(data, 10000, \"valid\")\n",
    "\n",
    "data = split_df(data, 10000, \"test\")"
   ]
  },
  {
   "cell_type": "code",
   "execution_count": null,
   "id": "c4329cbb",
   "metadata": {},
   "outputs": [],
   "source": []
  }
 ],
 "metadata": {
  "kernelspec": {
   "display_name": "Tensorflow 2.6.0",
   "language": "python",
   "name": "data_mining"
  },
  "language_info": {
   "codemirror_mode": {
    "name": "ipython",
    "version": 3
   },
   "file_extension": ".py",
   "mimetype": "text/x-python",
   "name": "python",
   "nbconvert_exporter": "python",
   "pygments_lexer": "ipython3",
   "version": "3.6.13"
  }
 },
 "nbformat": 4,
 "nbformat_minor": 5
}
